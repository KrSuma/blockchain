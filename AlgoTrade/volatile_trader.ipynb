{
 "cells": [
  {
   "cell_type": "code",
   "execution_count": 8,
   "metadata": {
    "collapsed": true
   },
   "outputs": [],
   "source": [
    "import os\n",
    "from binance.client import Client\n",
    "from datetime import datetime, timedelta\n",
    "import time\n",
    "from itertools import count\n",
    "from itertools import count\n",
    "import json\n",
    "\n",
    "API_LIVE = \"y49HDNWtWZ2YdQ3lmYrnBfDwv4eTShZEIrgHljYE2MPPmazEiaaw7KzFmS69xJLl\"\n",
    "SECRET_LIVE = \"kXCDDLPdUbI3YeLbrgqWqmWR4QebYhtkQL9UydBIVd5CrOO8CB71KDtH7tEf9njv\"\n",
    "\n",
    "SPOT_TEST = \"InTPDoHI8blAlKARL9KygcMujUod5KFnZGZhxKz596OG2Q193h2txTA1vOablbDk\"\n",
    "SPOT_SECRET = \"7rroq47B9IO0mm31RtlPwhLQ8tDAJijKHL5YBMtrQpkfVls5J74IUA4ykY7jdBto\""
   ]
  },
  {
   "cell_type": "code",
   "execution_count": 9,
   "outputs": [],
   "source": [
    "TESTNET = True\n",
    "\n",
    "# authenticate\n",
    "if TESTNET:\n",
    "    client = Client(SPOT_TEST, SPOT_SECRET)\n",
    "    client.API_URL = \"https://testnet.binance.vision/api\"\n",
    "else:\n",
    "    client = Client(API_LIVE, SECRET_LIVE)"
   ],
   "metadata": {
    "collapsed": false,
    "pycharm": {
     "name": "#%%\n"
    }
   }
  },
  {
   "cell_type": "code",
   "execution_count": 10,
   "outputs": [],
   "source": [
    "\"\"\"\n",
    "VARIABLES\n",
    "\"\"\"\n",
    "\n",
    "# select what to pair the coins with\n",
    "PAIR_WITH = 'USDT'\n",
    "# define size of each trade\n",
    "QUANTITY = 100\n",
    "# list of pairs to exclude\n",
    "FIATS = ['EURUSDT', 'GBPUSDT', 'JPYUSDT', 'USDUSDT', 'DOWN', 'UP']\n",
    "\n",
    "# the amount of time in MINUTES to calculate the differnce from the current price\n",
    "TIME_DIFFERENCE = 5\n",
    "# the difference in % between the first and second checks for the price, by default set at 10 minutes apart.\n",
    "CHANGE_IN_PRICE = 3\n",
    "# define in % when to sell a coin that's not making a profit\n",
    "STOP_LOSS = 3\n",
    "# define in % when to take profit on a profitable coin\n",
    "TAKE_PROFIT = 6"
   ],
   "metadata": {
    "collapsed": false,
    "pycharm": {
     "name": "#%%\n"
    }
   }
  },
  {
   "cell_type": "code",
   "execution_count": 11,
   "outputs": [],
   "source": [
    "\"\"\"\n",
    "COINS TRACKED\n",
    "\"\"\"\n",
    "coins_bought = {}\n",
    "coins_bought_file_path = 'coins_bought.json'\n",
    "\n",
    "# use separate files for testnet and live\n",
    "if TESTNET:\n",
    "    coins_bought_file_path = 'testnet_' + coins_bought_file_path\n",
    "\n",
    "# if saved coins_bought json file exists then load it\n",
    "if os.path.isfile(coins_bought_file_path):\n",
    "    with open(coins_bought_file_path) as file:\n",
    "        coins_bought = json.load(file)"
   ],
   "metadata": {
    "collapsed": false,
    "pycharm": {
     "name": "#%%\n"
    }
   }
  },
  {
   "cell_type": "code",
   "execution_count": 15,
   "outputs": [
    {
     "data": {
      "text/plain": "[{'symbol': 'BNBBUSD', 'price': '3243.19000000'},\n {'symbol': 'BTCBUSD', 'price': '80928.39000000'},\n {'symbol': 'ETHBUSD', 'price': '77189.42000000'},\n {'symbol': 'LTCBUSD', 'price': '1095.58000000'},\n {'symbol': 'TRXBUSD', 'price': '0.16636000'},\n {'symbol': 'XRPBUSD', 'price': '4.36990000'},\n {'symbol': 'BNBUSDT', 'price': '390.16000000'},\n {'symbol': 'BTCUSDT', 'price': '36200.54000000'},\n {'symbol': 'ETHUSDT', 'price': '2418.49000000'},\n {'symbol': 'LTCUSDT', 'price': '166.17000000'},\n {'symbol': 'TRXUSDT', 'price': '0.07768000'},\n {'symbol': 'XRPUSDT', 'price': '0.78320000'},\n {'symbol': 'BNBBTC', 'price': '0.00986800'},\n {'symbol': 'ETHBTC', 'price': '0.06750200'},\n {'symbol': 'LTCBTC', 'price': '0.01000000'},\n {'symbol': 'TRXBTC', 'price': '0.00000300'},\n {'symbol': 'XRPBTC', 'price': '0.00002720'},\n {'symbol': 'LTCBNB', 'price': '0.43860000'},\n {'symbol': 'TRXBNB', 'price': '0.00020540'},\n {'symbol': 'XRPBNB', 'price': '0.00253100'}]"
     },
     "execution_count": 15,
     "metadata": {},
     "output_type": "execute_result"
    }
   ],
   "source": [
    "\"\"\"\n",
    "FUNCTIONS\n",
    "\"\"\"\n",
    "\n",
    "prices = client.get_all_tickers()\n",
    "prices\n"
   ],
   "metadata": {
    "collapsed": false,
    "pycharm": {
     "name": "#%%\n"
    }
   }
  },
  {
   "cell_type": "code",
   "execution_count": 14,
   "outputs": [
    {
     "data": {
      "text/plain": "{'BNBUSDT': {'price': '390.30000000',\n  'time': datetime.datetime(2021, 6, 5, 23, 15, 17, 159952)},\n 'BTCUSDT': {'price': '39317.60000000',\n  'time': datetime.datetime(2021, 6, 5, 23, 15, 17, 159961)},\n 'ETHUSDT': {'price': '2418.49000000',\n  'time': datetime.datetime(2021, 6, 5, 23, 15, 17, 159963)},\n 'LTCUSDT': {'price': '166.17000000',\n  'time': datetime.datetime(2021, 6, 5, 23, 15, 17, 159966)},\n 'TRXUSDT': {'price': '0.07768000',\n  'time': datetime.datetime(2021, 6, 5, 23, 15, 17, 159968)},\n 'XRPUSDT': {'price': '0.78320000',\n  'time': datetime.datetime(2021, 6, 5, 23, 15, 17, 159971)}}"
     },
     "execution_count": 14,
     "metadata": {},
     "output_type": "execute_result"
    }
   ],
   "source": [
    "initial_price = {}\n",
    "\n",
    "for coin in prices:\n",
    "    if PAIR_WITH in coin['symbol'] and all(item not in coin['symbol'] for item in FIATS):\n",
    "            initial_price[coin['symbol']] = { 'price': coin['price'], 'time': datetime.now()}\n",
    "\n",
    "initial_price"
   ],
   "metadata": {
    "collapsed": false,
    "pycharm": {
     "name": "#%%\n"
    }
   }
  },
  {
   "cell_type": "code",
   "execution_count": null,
   "outputs": [],
   "source": [
    "def get_price():\n",
    "    initial_price = {}\n",
    "    prices = client.get_all_tickers()\n",
    "\n",
    "    for coin in prices:\n",
    "        # return USDT pairs, exclude margin symbols\n",
    "        if PAIR_WITH in coin['symbol'] and all(item not in coin['symbol'] for item in FIATS):\n",
    "            initial_price[coin['symbol']] = { 'price': coin['price'], 'time': datetime.now()}\n",
    "\n"
   ],
   "metadata": {
    "collapsed": false,
    "pycharm": {
     "name": "#%%\n"
    }
   }
  }
 ],
 "metadata": {
  "kernelspec": {
   "display_name": "Python 3",
   "language": "python",
   "name": "python3"
  },
  "language_info": {
   "codemirror_mode": {
    "name": "ipython",
    "version": 2
   },
   "file_extension": ".py",
   "mimetype": "text/x-python",
   "name": "python",
   "nbconvert_exporter": "python",
   "pygments_lexer": "ipython2",
   "version": "2.7.6"
  }
 },
 "nbformat": 4,
 "nbformat_minor": 0
}