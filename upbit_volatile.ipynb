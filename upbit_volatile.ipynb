{
 "cells": [
  {
   "cell_type": "code",
   "execution_count": 6,
   "metadata": {
    "collapsed": true
   },
   "outputs": [],
   "source": [
    "import os\n",
    "import jwt\n",
    "import uuid\n",
    "import hashlib\n",
    "from urllib.parse import urlencode\n",
    "import pprint as pp\n",
    "import json\n",
    "import requests\n",
    "\n",
    "# access_key = os.environ['UPBIT_OPEN_API_ACCESS_KEY']\n",
    "# secret_key = os.environ['UPBIT_OPEN_API_SECRET_KEY']\n",
    "# server_url = os.environ['UPBIT_OPEN_API_SERVER_URL']\n",
    "\n",
    "access_key = 'oKkffgWyKg3EJI7U3o8gfS430nxvdsKTBIGMPzhJ'\n",
    "secret_key = 'bqnka7H5f5S5x7CpZl2oYPeqFy3xGguyYCxxCG7G'\n",
    "server_url = 'https://api.upbit.com'"
   ]
  },
  {
   "cell_type": "code",
   "execution_count": 7,
   "outputs": [],
   "source": [
    "\"\"\"\n",
    "Functions\n",
    "\"\"\"\n",
    "\n",
    "def upbit_authenticate(payload, secret_key):\n",
    "    jwt_token = jwt.encode(payload, secret_key)\n",
    "    authorize_token = 'Bearer {}'.format(jwt_token)\n",
    "    headers = {\"Authorization\": authorize_token}\n",
    "    return headers\n",
    "\n"
   ],
   "metadata": {
    "collapsed": false,
    "pycharm": {
     "name": "#%%\n"
    }
   }
  },
  {
   "cell_type": "code",
   "execution_count": 8,
   "outputs": [
    {
     "name": "stdout",
     "output_type": "stream",
     "text": [
      "[{'avg_buy_price': '0',\n",
      "  'avg_buy_price_modified': True,\n",
      "  'balance': '867.29399961',\n",
      "  'currency': 'KRW',\n",
      "  'locked': '0.0',\n",
      "  'unit_currency': 'KRW'},\n",
      " {'avg_buy_price': '4343751.76',\n",
      "  'avg_buy_price_modified': False,\n",
      "  'balance': '1.01636791',\n",
      "  'currency': 'ETH',\n",
      "  'locked': '0.0',\n",
      "  'unit_currency': 'KRW'},\n",
      " {'avg_buy_price': '63824846.89',\n",
      "  'avg_buy_price_modified': False,\n",
      "  'balance': '0.03408334',\n",
      "  'currency': 'BTC',\n",
      "  'locked': '0.0',\n",
      "  'unit_currency': 'KRW'},\n",
      " {'avg_buy_price': '158.31',\n",
      "  'avg_buy_price_modified': False,\n",
      "  'balance': '647.29205615',\n",
      "  'currency': 'ANKR',\n",
      "  'locked': '0.0',\n",
      "  'unit_currency': 'KRW'},\n",
      " {'avg_buy_price': '2270.43',\n",
      "  'avg_buy_price_modified': False,\n",
      "  'balance': '228.12582507',\n",
      "  'currency': 'ADA',\n",
      "  'locked': '0.0',\n",
      "  'unit_currency': 'KRW'},\n",
      " {'avg_buy_price': '811.13',\n",
      "  'avg_buy_price_modified': False,\n",
      "  'balance': '328.30611093',\n",
      "  'currency': 'XLM',\n",
      "  'locked': '0.0',\n",
      "  'unit_currency': 'KRW'},\n",
      " {'avg_buy_price': '235.33',\n",
      "  'avg_buy_price_modified': False,\n",
      "  'balance': '90.0',\n",
      "  'currency': 'VET',\n",
      "  'locked': '0.0',\n",
      "  'unit_currency': 'KRW'},\n",
      " {'avg_buy_price': '0',\n",
      "  'avg_buy_price_modified': False,\n",
      "  'balance': '1.33735254',\n",
      "  'currency': 'VTHO',\n",
      "  'locked': '0.0',\n",
      "  'unit_currency': 'KRW'}]\n"
     ]
    }
   ],
   "source": [
    "\"\"\"\n",
    "Show all assets\n",
    "\"\"\"\n",
    "\n",
    "payload = {\n",
    "    'access_key': access_key,\n",
    "    'nonce': str(uuid.uuid4()),\n",
    "}\n",
    "\n",
    "res = requests.get(server_url + \"/v1/accounts\", headers=upbit_authenticate(payload, secret_key))\n",
    "pp.pprint(res.json())"
   ],
   "metadata": {
    "collapsed": false,
    "pycharm": {
     "name": "#%%\n"
    }
   }
  },
  {
   "cell_type": "code",
   "execution_count": null,
   "outputs": [],
   "source": [
    "\"\"\"\n",
    "Find order availability\n",
    "\"\"\"\n",
    "query = {\n",
    "    'market': 'KRW-ETH'\n",
    "}\n",
    "query_string = urlencode(query).encode()\n",
    "\n",
    "m = hashlib.sha512()\n",
    "m.update(query_string)\n",
    "query_hash = m.hexdigest()\n",
    "\n",
    "payload = {\n",
    "    'access_key': access_key,\n",
    "    'nonce': str(uuid.uuid4()),\n",
    "    'query_hash': query_hash,\n",
    "    'query_hash_alg': 'SHA512'\n",
    "}\n",
    "\n",
    "res = requests.get(server_url + \"/v1/orders/chance\", params=query,\n",
    "                   headers=upbit_authenticate(payload, secret_key))\n",
    "\n",
    "pp.pprint(res.json())"
   ],
   "metadata": {
    "collapsed": false,
    "pycharm": {
     "name": "#%%\n"
    }
   }
  }
 ],
 "metadata": {
  "kernelspec": {
   "display_name": "Python 3",
   "language": "python",
   "name": "python3"
  },
  "language_info": {
   "codemirror_mode": {
    "name": "ipython",
    "version": 2
   },
   "file_extension": ".py",
   "mimetype": "text/x-python",
   "name": "python",
   "nbconvert_exporter": "python",
   "pygments_lexer": "ipython2",
   "version": "2.7.6"
  }
 },
 "nbformat": 4,
 "nbformat_minor": 0
}